{
 "cells": [
  {
   "cell_type": "code",
   "execution_count": 14,
   "id": "6cd3109b",
   "metadata": {},
   "outputs": [],
   "source": [
    "from bs4 import BeautifulSoup\n",
    "from urllib.request import urlopen, urlretrieve\n",
    "\n",
    "data_dir = \"./data/allPrintings_pics/\""
   ]
  },
  {
   "cell_type": "code",
   "execution_count": 36,
   "id": "bf969db7",
   "metadata": {},
   "outputs": [],
   "source": [
    "j = 1\n",
    "for i in range(1,1123):\n",
    "    \n",
    "    url = \"https://scryfall.com/search?as=grid&order=name&page=\"+str(i)+\"&q=%28game%3Apaper%29+unique%3Aprints&unique=cards\"\n",
    "    html = urlopen(url)\n",
    "    soup = BeautifulSoup(html,'lxml')\n",
    "    \n",
    "    for img in soup.find_all(\"img\"):\n",
    "        urlretrieve(img[\"src\"] , data_dir + img[\"title\"].replace(\"//\",\"\\\\\") + str(j) + \".jpg\")\n",
    "        j += 1"
   ]
  }
 ],
 "metadata": {
  "kernelspec": {
   "display_name": "Python 3 (ipykernel)",
   "language": "python",
   "name": "python3"
  },
  "language_info": {
   "codemirror_mode": {
    "name": "ipython",
    "version": 3
   },
   "file_extension": ".py",
   "mimetype": "text/x-python",
   "name": "python",
   "nbconvert_exporter": "python",
   "pygments_lexer": "ipython3",
   "version": "3.9.13"
  }
 },
 "nbformat": 4,
 "nbformat_minor": 5
}
